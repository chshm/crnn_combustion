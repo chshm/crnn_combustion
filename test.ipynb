{
 "cells": [
  {
   "cell_type": "code",
   "execution_count": 1,
   "metadata": {},
   "outputs": [],
   "source": [
    "import torch\n",
    "import torch.nn as nn\n",
    "from torch.nn import functional as F\n",
    "import torch.utils.data\n",
    "import numpy as np"
   ]
  },
  {
   "cell_type": "code",
   "execution_count": 2,
   "metadata": {},
   "outputs": [],
   "source": [
    "# load dataset\n",
    "def make_dataset():\n",
    "    x = torch.linspace(0, 100, 1800, dtype=torch.float32).reshape(-1, 6)\n",
    "    y = torch.randn((x.shape[0],4))\n",
    "    dataset = torch.utils.data.TensorDataset(x, y)\n",
    "    return dataset\n",
    "\n",
    "data = make_dataset()\n",
    "train_dataloader = torch.utils.data.DataLoader(data, batch_size=256, shuffle=True, num_workers=1)"
   ]
  },
  {
   "cell_type": "code",
   "execution_count": 3,
   "metadata": {},
   "outputs": [],
   "source": [
    "# define crnn model\n",
    "class crnn(torch.nn.Module):\n",
    "    def __init__(self, in_para, reactions, production_rates):\n",
    "        super(crnn, self).__init__()\n",
    "        self.net_in = nn.Linear(in_para, reactions)\n",
    "        self.net_out = nn.Linear(reactions, production_rates)\n",
    "        \n",
    "    def forward(self, x):\n",
    "        x = F.relu(self.net_in(x))\n",
    "        x = self.net_out(x)\n",
    "        return x"
   ]
  },
  {
   "cell_type": "code",
   "execution_count": 4,
   "metadata": {},
   "outputs": [],
   "source": [
    "# define loss function & optimizer\n",
    "def ODESolve(crnn_y, y_0):\n",
    "    pass\n",
    "    return y_out\n",
    "\n",
    "criterion = nn.MSELoss()\n",
    "model = crnn(6,4,4)\n",
    "optimizer = torch.optim.Adam(model.parameters(), lr=0.003)"
   ]
  },
  {
   "cell_type": "code",
   "execution_count": 5,
   "metadata": {},
   "outputs": [],
   "source": [
    "# train \n",
    "iter_per_epoch = len(train_dataloader)\n",
    "max_epochs = 50\n",
    "for epoch in range(max_epochs):\n",
    "    for i, batch in enumerate(train_dataloader):\n",
    "        optimizer.zero_grad()\n",
    "        x, y = batch[0], batch[1]\n",
    "        \n",
    "        crnn_y = model(x)\n",
    "        logits = ODESolve(crnn_y, y_0)\n",
    "        loss = criterion(logits, y)\n",
    "        \n",
    "        loss.backward()\n",
    "        optimizer.step()\n",
    "        tr.update()\n",
    "\n",
    "torch.save(model.state_dict(), os.path.join('./', 'crnn_model'))\n",
    "tr.end()"
   ]
  },
  {
   "cell_type": "code",
   "execution_count": null,
   "metadata": {},
   "outputs": [],
   "source": [
    "# test\n",
    "\n",
    "model.load_state_dict(torch.load(os.path.join('./', 'crnn_model')))\n",
    "model.eval()\n",
    "y = model(test_data)"
   ]
  }
 ],
 "metadata": {
  "kernelspec": {
   "display_name": "Python 3",
   "language": "python",
   "name": "python3"
  },
  "language_info": {
   "codemirror_mode": {
    "name": "ipython",
    "version": 3
   },
   "file_extension": ".py",
   "mimetype": "text/x-python",
   "name": "python",
   "nbconvert_exporter": "python",
   "pygments_lexer": "ipython3",
   "version": "3.7.3"
  }
 },
 "nbformat": 4,
 "nbformat_minor": 2
}
